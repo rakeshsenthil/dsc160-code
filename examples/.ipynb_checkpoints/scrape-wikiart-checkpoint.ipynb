{
 "cells": [
  {
   "cell_type": "markdown",
   "metadata": {},
   "source": [
    "DSC160 Data Science and the Arts - Twomey - Spring 2020 - [dsc160.roberttwomey.com](http://dsc160.roberttwomey.com)"
   ]
  },
  {
   "cell_type": "markdown",
   "metadata": {},
   "source": [
    "## Example Scraping Code\n",
    "\n",
    "This example uses the Beautiful Soup library and other python modules to scrape a set of paintings from WikiArt. This notebook downloads the work of abstract expressionist Lee Krasner. For Exercise 1, you will work with the paintings of Mark Rothko."
   ]
  },
  {
   "cell_type": "markdown",
   "metadata": {},
   "source": [
    "First we import the necessary libraries"
   ]
  },
  {
   "cell_type": "code",
   "execution_count": 1,
   "metadata": {},
   "outputs": [],
   "source": [
    "from bs4 import BeautifulSoup\n",
    "import os\n",
    "import requests"
   ]
  },
  {
   "cell_type": "markdown",
   "metadata": {},
   "source": [
    "set up our data paths and URLs"
   ]
  },
  {
   "cell_type": "code",
   "execution_count": 2,
   "metadata": {},
   "outputs": [],
   "source": [
    "DATA_DIR = '../data/'\n",
    "ARTIST_URL = 'https://www.wikiart.org/en/{artist}/all-works/text-list'\n",
    "PAINTING_URL = 'https://www.wikiart.org{painting_path}'"
   ]
  },
  {
   "cell_type": "markdown",
   "metadata": {},
   "source": [
    "and set up file storage for downloaded images"
   ]
  },
  {
   "cell_type": "code",
   "execution_count": 3,
   "metadata": {},
   "outputs": [],
   "source": [
    "if not os.path.exists(DATA_DIR):\n",
    "    os.makedirs(DATA_DIR)"
   ]
  },
  {
   "cell_type": "markdown",
   "metadata": {},
   "source": [
    "### Get list of paintings for artist"
   ]
  },
  {
   "cell_type": "code",
   "execution_count": 4,
   "metadata": {},
   "outputs": [],
   "source": [
    "artist_name = 'lee-krasner'"
   ]
  },
  {
   "cell_type": "code",
   "execution_count": 5,
   "metadata": {},
   "outputs": [],
   "source": [
    "url_query = ARTIST_URL.format(artist=artist_name)"
   ]
  },
  {
   "cell_type": "code",
   "execution_count": 6,
   "metadata": {},
   "outputs": [],
   "source": [
    "artist_page = requests.get(url_query)"
   ]
  },
  {
   "cell_type": "markdown",
   "metadata": {},
   "source": [
    "request WikiArt list of works page"
   ]
  },
  {
   "cell_type": "code",
   "execution_count": null,
   "metadata": {},
   "outputs": [],
   "source": [
    "# check for request error\n",
    "try:\n",
    "    artist_page.raise_for_status()\n",
    "except requests.exceptions.HTTPError as e:\n",
    "    print(\"Error trying to retrieve {}\".format(artist_page.url))\n",
    "    raise e"
   ]
  },
  {
   "cell_type": "code",
   "execution_count": null,
   "metadata": {},
   "outputs": [],
   "source": [
    "soup = BeautifulSoup(artist_page.text, 'lxml')"
   ]
  },
  {
   "cell_type": "markdown",
   "metadata": {},
   "source": [
    "create image storage directory for artist if it doesn't exist `../data/artist-name`"
   ]
  },
  {
   "cell_type": "code",
   "execution_count": null,
   "metadata": {},
   "outputs": [],
   "source": [
    "IMAGE_DIR = os.path.join(DATA_DIR, artist_name)\n",
    "if not os.path.exists(IMAGE_DIR):\n",
    "    os.makedirs(IMAGE_DIR)"
   ]
  },
  {
   "cell_type": "markdown",
   "metadata": {},
   "source": [
    "parse all painting pages from list of works page"
   ]
  },
  {
   "cell_type": "code",
   "execution_count": null,
   "metadata": {},
   "outputs": [],
   "source": [
    "painting_paths = []\n",
    "\n",
    "# retreive all rows in painting-list\n",
    "for li in soup.find_all('li', {'class': 'painting-list-text-row'}):\n",
    "\n",
    "    # retrieve all links in the current row\n",
    "    for link in li.find_all('a'):\n",
    "        href = link.get('href')\n",
    "        # store in dictionary\n",
    "        painting_paths.append(href)\n",
    "\n",
    "print(len(painting_paths))\n",
    "# painting_paths"
   ]
  },
  {
   "cell_type": "markdown",
   "metadata": {},
   "source": [
    "### Download Paintings"
   ]
  },
  {
   "cell_type": "code",
   "execution_count": null,
   "metadata": {},
   "outputs": [],
   "source": [
    "def download_and_save(painting_url):\n",
    "    r_painting_page = requests.get(painting_url)\n",
    "    soup = BeautifulSoup(r_painting_page.text, 'lxml')\n",
    "    for img in soup.find_all('img', {'class': 'ms-zoom-cursor'}):\n",
    "        img_url = img['src']\n",
    "        img_url = img_url.split('!')[0]\n",
    "        filename = img_url.split('/')[-1]\n",
    "\n",
    "        outfile = os.path.join(IMAGE_DIR, filename)                       \n",
    "        if not os.path.exists(outfile):                        \n",
    "            print(\"downloading {}: {}\".format(filename, img_url))\n",
    "            r = requests.get(img_url, outfile)\n",
    "            with open(outfile, 'wb') as f:\n",
    "                f.write(r.content)\n",
    "        else:\n",
    "            #print(\"skipping {}\".format(filename))\n",
    "            pass"
   ]
  },
  {
   "cell_type": "code",
   "execution_count": null,
   "metadata": {},
   "outputs": [],
   "source": [
    "for path in painting_paths:\n",
    "    painting_path = PAINTING_URL.format(painting_path=path)\n",
    "    download_and_save(painting_path)"
   ]
  },
  {
   "cell_type": "markdown",
   "metadata": {},
   "source": [
    "## Extensions\n",
    "- Scrape painting metadata and store along with with the painting images as a text file on disk. These metadata will be useful for further analysis.\n",
    "- Store URLs and all available metadata in a pandas dataframe. "
   ]
  },
  {
   "cell_type": "markdown",
   "metadata": {},
   "source": [
    "## Reference\n",
    "- Lee Krasner biography: [https://www.biography.com/artist/lee-krasner](https://www.biography.com/artist/lee-krasner)\n",
    "- Beautiful Soup documentation: [https://www.crummy.com/software/BeautifulSoup/bs4/doc/](https://www.crummy.com/software/BeautifulSoup/bs4/doc/)\n",
    "- WikiArt terms of use: [https://www.wikiart.org/en/terms-of-use](https://www.wikiart.org/en/terms-of-use)"
   ]
  }
 ],
 "metadata": {
  "kernelspec": {
   "display_name": "Python 3",
   "language": "python",
   "name": "python3"
  },
  "language_info": {
   "codemirror_mode": {
    "name": "ipython",
    "version": 3
   },
   "file_extension": ".py",
   "mimetype": "text/x-python",
   "name": "python",
   "nbconvert_exporter": "python",
   "pygments_lexer": "ipython3",
   "version": "3.7.1"
  }
 },
 "nbformat": 4,
 "nbformat_minor": 2
}
